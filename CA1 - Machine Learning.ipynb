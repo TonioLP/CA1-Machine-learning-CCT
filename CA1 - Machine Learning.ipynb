{
 "cells": [
  {
   "cell_type": "markdown",
   "id": "8e9cfe3d-2ea2-4658-943d-c4f03b5f4c45",
   "metadata": {},
   "source": [
    "# Machine learning model #1 - Random Forest"
   ]
  },
  {
   "cell_type": "code",
   "execution_count": 1,
   "id": "c3b922e8-3920-4e3c-9aad-d1065b59be33",
   "metadata": {},
   "outputs": [],
   "source": [
    "# Importing the required libraries\n",
    "import pandas as pd\n",
    "import numpy as np\n",
    "import matplotlib.pyplot as plt\n",
    "import seaborn as sns\n",
    "%matplotlib inline\n",
    "\n",
    "# To ignore warnings\n",
    "import warnings\n",
    "warnings.filterwarnings(\"ignore\")"
   ]
  },
  {
   "cell_type": "code",
   "execution_count": 2,
   "id": "277292b7-4a1c-494d-8bb9-04dc009ad5e7",
   "metadata": {},
   "outputs": [
    {
     "data": {
      "text/html": [
       "<div>\n",
       "<style scoped>\n",
       "    .dataframe tbody tr th:only-of-type {\n",
       "        vertical-align: middle;\n",
       "    }\n",
       "\n",
       "    .dataframe tbody tr th {\n",
       "        vertical-align: top;\n",
       "    }\n",
       "\n",
       "    .dataframe thead th {\n",
       "        text-align: right;\n",
       "    }\n",
       "</style>\n",
       "<table border=\"1\" class=\"dataframe\">\n",
       "  <thead>\n",
       "    <tr style=\"text-align: right;\">\n",
       "      <th></th>\n",
       "      <th>gender</th>\n",
       "      <th>race_ethnicity</th>\n",
       "      <th>parental_level_of_education</th>\n",
       "      <th>lunch</th>\n",
       "      <th>test_preparation_course</th>\n",
       "      <th>math_score</th>\n",
       "      <th>reading_score</th>\n",
       "      <th>writing_score</th>\n",
       "    </tr>\n",
       "  </thead>\n",
       "  <tbody>\n",
       "    <tr>\n",
       "      <th>0</th>\n",
       "      <td>female</td>\n",
       "      <td>group B</td>\n",
       "      <td>bachelor's degree</td>\n",
       "      <td>standard</td>\n",
       "      <td>none</td>\n",
       "      <td>72</td>\n",
       "      <td>72</td>\n",
       "      <td>74</td>\n",
       "    </tr>\n",
       "    <tr>\n",
       "      <th>1</th>\n",
       "      <td>female</td>\n",
       "      <td>group C</td>\n",
       "      <td>some college</td>\n",
       "      <td>standard</td>\n",
       "      <td>completed</td>\n",
       "      <td>69</td>\n",
       "      <td>90</td>\n",
       "      <td>88</td>\n",
       "    </tr>\n",
       "    <tr>\n",
       "      <th>2</th>\n",
       "      <td>female</td>\n",
       "      <td>group B</td>\n",
       "      <td>master's degree</td>\n",
       "      <td>standard</td>\n",
       "      <td>none</td>\n",
       "      <td>90</td>\n",
       "      <td>95</td>\n",
       "      <td>93</td>\n",
       "    </tr>\n",
       "    <tr>\n",
       "      <th>3</th>\n",
       "      <td>male</td>\n",
       "      <td>group A</td>\n",
       "      <td>associate's degree</td>\n",
       "      <td>free/reduced</td>\n",
       "      <td>none</td>\n",
       "      <td>47</td>\n",
       "      <td>57</td>\n",
       "      <td>44</td>\n",
       "    </tr>\n",
       "    <tr>\n",
       "      <th>4</th>\n",
       "      <td>male</td>\n",
       "      <td>group C</td>\n",
       "      <td>some college</td>\n",
       "      <td>standard</td>\n",
       "      <td>none</td>\n",
       "      <td>76</td>\n",
       "      <td>78</td>\n",
       "      <td>75</td>\n",
       "    </tr>\n",
       "    <tr>\n",
       "      <th>5</th>\n",
       "      <td>female</td>\n",
       "      <td>group B</td>\n",
       "      <td>associate's degree</td>\n",
       "      <td>standard</td>\n",
       "      <td>none</td>\n",
       "      <td>71</td>\n",
       "      <td>83</td>\n",
       "      <td>78</td>\n",
       "    </tr>\n",
       "    <tr>\n",
       "      <th>6</th>\n",
       "      <td>female</td>\n",
       "      <td>group B</td>\n",
       "      <td>some college</td>\n",
       "      <td>standard</td>\n",
       "      <td>completed</td>\n",
       "      <td>88</td>\n",
       "      <td>95</td>\n",
       "      <td>92</td>\n",
       "    </tr>\n",
       "    <tr>\n",
       "      <th>7</th>\n",
       "      <td>male</td>\n",
       "      <td>group B</td>\n",
       "      <td>some college</td>\n",
       "      <td>free/reduced</td>\n",
       "      <td>none</td>\n",
       "      <td>40</td>\n",
       "      <td>43</td>\n",
       "      <td>39</td>\n",
       "    </tr>\n",
       "    <tr>\n",
       "      <th>8</th>\n",
       "      <td>male</td>\n",
       "      <td>group D</td>\n",
       "      <td>high school</td>\n",
       "      <td>free/reduced</td>\n",
       "      <td>completed</td>\n",
       "      <td>64</td>\n",
       "      <td>64</td>\n",
       "      <td>67</td>\n",
       "    </tr>\n",
       "    <tr>\n",
       "      <th>9</th>\n",
       "      <td>female</td>\n",
       "      <td>group B</td>\n",
       "      <td>high school</td>\n",
       "      <td>free/reduced</td>\n",
       "      <td>none</td>\n",
       "      <td>38</td>\n",
       "      <td>60</td>\n",
       "      <td>50</td>\n",
       "    </tr>\n",
       "  </tbody>\n",
       "</table>\n",
       "</div>"
      ],
      "text/plain": [
       "   gender race_ethnicity parental_level_of_education         lunch  \\\n",
       "0  female        group B           bachelor's degree      standard   \n",
       "1  female        group C                some college      standard   \n",
       "2  female        group B             master's degree      standard   \n",
       "3    male        group A          associate's degree  free/reduced   \n",
       "4    male        group C                some college      standard   \n",
       "5  female        group B          associate's degree      standard   \n",
       "6  female        group B                some college      standard   \n",
       "7    male        group B                some college  free/reduced   \n",
       "8    male        group D                 high school  free/reduced   \n",
       "9  female        group B                 high school  free/reduced   \n",
       "\n",
       "  test_preparation_course  math_score  reading_score  writing_score  \n",
       "0                    none          72             72             74  \n",
       "1               completed          69             90             88  \n",
       "2                    none          90             95             93  \n",
       "3                    none          47             57             44  \n",
       "4                    none          76             78             75  \n",
       "5                    none          71             83             78  \n",
       "6               completed          88             95             92  \n",
       "7                    none          40             43             39  \n",
       "8               completed          64             64             67  \n",
       "9                    none          38             60             50  "
      ]
     },
     "execution_count": 2,
     "metadata": {},
     "output_type": "execute_result"
    }
   ],
   "source": [
    "# Reading the csv file and putting it into 'df' object.\n",
    "df = pd.read_csv('study_performance.csv')\n",
    "df.head(10)"
   ]
  },
  {
   "cell_type": "code",
   "execution_count": 3,
   "id": "882c2dbc-0519-413e-ba36-5f9614514398",
   "metadata": {},
   "outputs": [],
   "source": [
    "# Remove the columns that are not relevant to our goal\n",
    "df = df.drop(['gender', 'race_ethnicity', 'lunch'], axis=1)"
   ]
  },
  {
   "cell_type": "code",
   "execution_count": 4,
   "id": "8bc6ad12-7046-4871-86c2-11a540530be0",
   "metadata": {},
   "outputs": [
    {
     "name": "stdout",
     "output_type": "stream",
     "text": [
      "<class 'pandas.core.frame.DataFrame'>\n",
      "RangeIndex: 1000 entries, 0 to 999\n",
      "Data columns (total 5 columns):\n",
      " #   Column                       Non-Null Count  Dtype \n",
      "---  ------                       --------------  ----- \n",
      " 0   parental_level_of_education  1000 non-null   object\n",
      " 1   test_preparation_course      1000 non-null   object\n",
      " 2   math_score                   1000 non-null   int64 \n",
      " 3   reading_score                1000 non-null   int64 \n",
      " 4   writing_score                1000 non-null   int64 \n",
      "dtypes: int64(3), object(2)\n",
      "memory usage: 39.2+ KB\n"
     ]
    }
   ],
   "source": [
    "# Let's understand the type of columns\n",
    "df.info()"
   ]
  },
  {
   "cell_type": "code",
   "execution_count": 5,
   "id": "7c69d041-da7e-4803-a145-79bda54f5151",
   "metadata": {},
   "outputs": [
    {
     "data": {
      "text/html": [
       "<div>\n",
       "<style scoped>\n",
       "    .dataframe tbody tr th:only-of-type {\n",
       "        vertical-align: middle;\n",
       "    }\n",
       "\n",
       "    .dataframe tbody tr th {\n",
       "        vertical-align: top;\n",
       "    }\n",
       "\n",
       "    .dataframe thead th {\n",
       "        text-align: right;\n",
       "    }\n",
       "</style>\n",
       "<table border=\"1\" class=\"dataframe\">\n",
       "  <thead>\n",
       "    <tr style=\"text-align: right;\">\n",
       "      <th></th>\n",
       "      <th>parental_level_of_education</th>\n",
       "      <th>test_preparation_course</th>\n",
       "      <th>math_score</th>\n",
       "      <th>reading_score</th>\n",
       "      <th>writing_score</th>\n",
       "    </tr>\n",
       "  </thead>\n",
       "  <tbody>\n",
       "    <tr>\n",
       "      <th>0</th>\n",
       "      <td>bachelor's degree</td>\n",
       "      <td>none</td>\n",
       "      <td>72</td>\n",
       "      <td>72</td>\n",
       "      <td>74</td>\n",
       "    </tr>\n",
       "    <tr>\n",
       "      <th>1</th>\n",
       "      <td>some college</td>\n",
       "      <td>completed</td>\n",
       "      <td>69</td>\n",
       "      <td>90</td>\n",
       "      <td>88</td>\n",
       "    </tr>\n",
       "    <tr>\n",
       "      <th>2</th>\n",
       "      <td>master's degree</td>\n",
       "      <td>none</td>\n",
       "      <td>90</td>\n",
       "      <td>95</td>\n",
       "      <td>93</td>\n",
       "    </tr>\n",
       "    <tr>\n",
       "      <th>3</th>\n",
       "      <td>associate's degree</td>\n",
       "      <td>none</td>\n",
       "      <td>47</td>\n",
       "      <td>57</td>\n",
       "      <td>44</td>\n",
       "    </tr>\n",
       "    <tr>\n",
       "      <th>4</th>\n",
       "      <td>some college</td>\n",
       "      <td>none</td>\n",
       "      <td>76</td>\n",
       "      <td>78</td>\n",
       "      <td>75</td>\n",
       "    </tr>\n",
       "    <tr>\n",
       "      <th>5</th>\n",
       "      <td>associate's degree</td>\n",
       "      <td>none</td>\n",
       "      <td>71</td>\n",
       "      <td>83</td>\n",
       "      <td>78</td>\n",
       "    </tr>\n",
       "    <tr>\n",
       "      <th>6</th>\n",
       "      <td>some college</td>\n",
       "      <td>completed</td>\n",
       "      <td>88</td>\n",
       "      <td>95</td>\n",
       "      <td>92</td>\n",
       "    </tr>\n",
       "    <tr>\n",
       "      <th>7</th>\n",
       "      <td>some college</td>\n",
       "      <td>none</td>\n",
       "      <td>40</td>\n",
       "      <td>43</td>\n",
       "      <td>39</td>\n",
       "    </tr>\n",
       "    <tr>\n",
       "      <th>8</th>\n",
       "      <td>high school</td>\n",
       "      <td>completed</td>\n",
       "      <td>64</td>\n",
       "      <td>64</td>\n",
       "      <td>67</td>\n",
       "    </tr>\n",
       "    <tr>\n",
       "      <th>9</th>\n",
       "      <td>high school</td>\n",
       "      <td>none</td>\n",
       "      <td>38</td>\n",
       "      <td>60</td>\n",
       "      <td>50</td>\n",
       "    </tr>\n",
       "  </tbody>\n",
       "</table>\n",
       "</div>"
      ],
      "text/plain": [
       "  parental_level_of_education test_preparation_course  math_score  \\\n",
       "0           bachelor's degree                    none          72   \n",
       "1                some college               completed          69   \n",
       "2             master's degree                    none          90   \n",
       "3          associate's degree                    none          47   \n",
       "4                some college                    none          76   \n",
       "5          associate's degree                    none          71   \n",
       "6                some college               completed          88   \n",
       "7                some college                    none          40   \n",
       "8                 high school               completed          64   \n",
       "9                 high school                    none          38   \n",
       "\n",
       "   reading_score  writing_score  \n",
       "0             72             74  \n",
       "1             90             88  \n",
       "2             95             93  \n",
       "3             57             44  \n",
       "4             78             75  \n",
       "5             83             78  \n",
       "6             95             92  \n",
       "7             43             39  \n",
       "8             64             67  \n",
       "9             60             50  "
      ]
     },
     "execution_count": 5,
     "metadata": {},
     "output_type": "execute_result"
    }
   ],
   "source": [
    "# Show the revisited table\n",
    "df.head(10)"
   ]
  },
  {
   "cell_type": "code",
   "execution_count": 6,
   "id": "f8e26489-5617-41ce-91db-263f64d9d6d9",
   "metadata": {},
   "outputs": [],
   "source": [
    "# The feature \"test_preparation_course\" contains string values ('completed' or 'none'), which the Random Forest model can't handle\n",
    "# The model expects only numeric inputs, so we need to create dummies or in this case, I prefer to assing '1' to 'completed' and '0' to 'none':\n",
    "df['test_preparation_course'] = df['test_preparation_course'].map({'completed': 1, 'none': 0})"
   ]
  },
  {
   "cell_type": "code",
   "execution_count": 7,
   "id": "7e7e0689-e153-4307-8810-2da7d8b5ccd9",
   "metadata": {},
   "outputs": [
    {
     "data": {
      "text/html": [
       "<div>\n",
       "<style scoped>\n",
       "    .dataframe tbody tr th:only-of-type {\n",
       "        vertical-align: middle;\n",
       "    }\n",
       "\n",
       "    .dataframe tbody tr th {\n",
       "        vertical-align: top;\n",
       "    }\n",
       "\n",
       "    .dataframe thead th {\n",
       "        text-align: right;\n",
       "    }\n",
       "</style>\n",
       "<table border=\"1\" class=\"dataframe\">\n",
       "  <thead>\n",
       "    <tr style=\"text-align: right;\">\n",
       "      <th></th>\n",
       "      <th>parental_level_of_education</th>\n",
       "      <th>test_preparation_course</th>\n",
       "      <th>math_score</th>\n",
       "      <th>reading_score</th>\n",
       "      <th>writing_score</th>\n",
       "    </tr>\n",
       "  </thead>\n",
       "  <tbody>\n",
       "    <tr>\n",
       "      <th>0</th>\n",
       "      <td>bachelor's degree</td>\n",
       "      <td>0</td>\n",
       "      <td>72</td>\n",
       "      <td>72</td>\n",
       "      <td>74</td>\n",
       "    </tr>\n",
       "    <tr>\n",
       "      <th>1</th>\n",
       "      <td>some college</td>\n",
       "      <td>1</td>\n",
       "      <td>69</td>\n",
       "      <td>90</td>\n",
       "      <td>88</td>\n",
       "    </tr>\n",
       "    <tr>\n",
       "      <th>2</th>\n",
       "      <td>master's degree</td>\n",
       "      <td>0</td>\n",
       "      <td>90</td>\n",
       "      <td>95</td>\n",
       "      <td>93</td>\n",
       "    </tr>\n",
       "    <tr>\n",
       "      <th>3</th>\n",
       "      <td>associate's degree</td>\n",
       "      <td>0</td>\n",
       "      <td>47</td>\n",
       "      <td>57</td>\n",
       "      <td>44</td>\n",
       "    </tr>\n",
       "    <tr>\n",
       "      <th>4</th>\n",
       "      <td>some college</td>\n",
       "      <td>0</td>\n",
       "      <td>76</td>\n",
       "      <td>78</td>\n",
       "      <td>75</td>\n",
       "    </tr>\n",
       "    <tr>\n",
       "      <th>5</th>\n",
       "      <td>associate's degree</td>\n",
       "      <td>0</td>\n",
       "      <td>71</td>\n",
       "      <td>83</td>\n",
       "      <td>78</td>\n",
       "    </tr>\n",
       "    <tr>\n",
       "      <th>6</th>\n",
       "      <td>some college</td>\n",
       "      <td>1</td>\n",
       "      <td>88</td>\n",
       "      <td>95</td>\n",
       "      <td>92</td>\n",
       "    </tr>\n",
       "    <tr>\n",
       "      <th>7</th>\n",
       "      <td>some college</td>\n",
       "      <td>0</td>\n",
       "      <td>40</td>\n",
       "      <td>43</td>\n",
       "      <td>39</td>\n",
       "    </tr>\n",
       "    <tr>\n",
       "      <th>8</th>\n",
       "      <td>high school</td>\n",
       "      <td>1</td>\n",
       "      <td>64</td>\n",
       "      <td>64</td>\n",
       "      <td>67</td>\n",
       "    </tr>\n",
       "    <tr>\n",
       "      <th>9</th>\n",
       "      <td>high school</td>\n",
       "      <td>0</td>\n",
       "      <td>38</td>\n",
       "      <td>60</td>\n",
       "      <td>50</td>\n",
       "    </tr>\n",
       "  </tbody>\n",
       "</table>\n",
       "</div>"
      ],
      "text/plain": [
       "  parental_level_of_education  test_preparation_course  math_score  \\\n",
       "0           bachelor's degree                        0          72   \n",
       "1                some college                        1          69   \n",
       "2             master's degree                        0          90   \n",
       "3          associate's degree                        0          47   \n",
       "4                some college                        0          76   \n",
       "5          associate's degree                        0          71   \n",
       "6                some college                        1          88   \n",
       "7                some college                        0          40   \n",
       "8                 high school                        1          64   \n",
       "9                 high school                        0          38   \n",
       "\n",
       "   reading_score  writing_score  \n",
       "0             72             74  \n",
       "1             90             88  \n",
       "2             95             93  \n",
       "3             57             44  \n",
       "4             78             75  \n",
       "5             83             78  \n",
       "6             95             92  \n",
       "7             43             39  \n",
       "8             64             67  \n",
       "9             60             50  "
      ]
     },
     "execution_count": 7,
     "metadata": {},
     "output_type": "execute_result"
    }
   ],
   "source": [
    "# Show the revisited table\n",
    "df.head(10)"
   ]
  },
  {
   "cell_type": "markdown",
   "id": "a37ba51c-42d3-4a43-805d-ddb6fcc7548d",
   "metadata": {},
   "source": [
    "In this case, we know that there are no major data quality issues, so we'll go ahead and build the model."
   ]
  },
  {
   "cell_type": "markdown",
   "id": "02a9bcd2-6dea-47a4-b23a-94acb59752b6",
   "metadata": {},
   "source": [
    "### Data Preparation and Model Building"
   ]
  },
  {
   "cell_type": "code",
   "execution_count": 8,
   "id": "93e2ab75-b808-43df-aea6-533fb09a02df",
   "metadata": {},
   "outputs": [],
   "source": [
    "# Importing test_train_split from sklearn library\n",
    "from sklearn.model_selection import train_test_split"
   ]
  },
  {
   "cell_type": "code",
   "execution_count": 9,
   "id": "a0b518e8-27fb-4133-856e-f2e5b9df814f",
   "metadata": {},
   "outputs": [],
   "source": [
    "# Putting feature variable to X\n",
    "X = df.drop('parental_level_of_education',axis=1)\n",
    "\n",
    "# Putting response variable to y\n",
    "y = df['parental_level_of_education']\n",
    "\n",
    "# Split dataset into training set and test set (20% test size)\n",
    "X_train_20, X_test_20, y_train_20, y_test_20 = train_test_split(X, y, test_size=0.2, random_state=1)"
   ]
  },
  {
   "cell_type": "markdown",
   "id": "e682ca1f-5ba8-4939-9fde-3bbcd3683d4b",
   "metadata": {},
   "source": [
    "### Default Hyperparameters\r\n",
    "Let's first fit a random forest model with default hyperparameters"
   ]
  },
  {
   "cell_type": "code",
   "execution_count": 10,
   "id": "c06e8b94-2c05-438c-aa60-52d40a348277",
   "metadata": {},
   "outputs": [],
   "source": [
    "# Importing random forest classifier from sklearn library\n",
    "from sklearn.ensemble import RandomForestClassifier\n",
    "\n",
    "# Running the random forest with default parameters.\n",
    "rfc = RandomForestClassifier()"
   ]
  },
  {
   "cell_type": "code",
   "execution_count": 11,
   "id": "55c65aa8-baea-48e0-8523-c5b79f3782f1",
   "metadata": {},
   "outputs": [
    {
     "data": {
      "text/html": [
       "<style>#sk-container-id-1 {color: black;background-color: white;}#sk-container-id-1 pre{padding: 0;}#sk-container-id-1 div.sk-toggleable {background-color: white;}#sk-container-id-1 label.sk-toggleable__label {cursor: pointer;display: block;width: 100%;margin-bottom: 0;padding: 0.3em;box-sizing: border-box;text-align: center;}#sk-container-id-1 label.sk-toggleable__label-arrow:before {content: \"▸\";float: left;margin-right: 0.25em;color: #696969;}#sk-container-id-1 label.sk-toggleable__label-arrow:hover:before {color: black;}#sk-container-id-1 div.sk-estimator:hover label.sk-toggleable__label-arrow:before {color: black;}#sk-container-id-1 div.sk-toggleable__content {max-height: 0;max-width: 0;overflow: hidden;text-align: left;background-color: #f0f8ff;}#sk-container-id-1 div.sk-toggleable__content pre {margin: 0.2em;color: black;border-radius: 0.25em;background-color: #f0f8ff;}#sk-container-id-1 input.sk-toggleable__control:checked~div.sk-toggleable__content {max-height: 200px;max-width: 100%;overflow: auto;}#sk-container-id-1 input.sk-toggleable__control:checked~label.sk-toggleable__label-arrow:before {content: \"▾\";}#sk-container-id-1 div.sk-estimator input.sk-toggleable__control:checked~label.sk-toggleable__label {background-color: #d4ebff;}#sk-container-id-1 div.sk-label input.sk-toggleable__control:checked~label.sk-toggleable__label {background-color: #d4ebff;}#sk-container-id-1 input.sk-hidden--visually {border: 0;clip: rect(1px 1px 1px 1px);clip: rect(1px, 1px, 1px, 1px);height: 1px;margin: -1px;overflow: hidden;padding: 0;position: absolute;width: 1px;}#sk-container-id-1 div.sk-estimator {font-family: monospace;background-color: #f0f8ff;border: 1px dotted black;border-radius: 0.25em;box-sizing: border-box;margin-bottom: 0.5em;}#sk-container-id-1 div.sk-estimator:hover {background-color: #d4ebff;}#sk-container-id-1 div.sk-parallel-item::after {content: \"\";width: 100%;border-bottom: 1px solid gray;flex-grow: 1;}#sk-container-id-1 div.sk-label:hover label.sk-toggleable__label {background-color: #d4ebff;}#sk-container-id-1 div.sk-serial::before {content: \"\";position: absolute;border-left: 1px solid gray;box-sizing: border-box;top: 0;bottom: 0;left: 50%;z-index: 0;}#sk-container-id-1 div.sk-serial {display: flex;flex-direction: column;align-items: center;background-color: white;padding-right: 0.2em;padding-left: 0.2em;position: relative;}#sk-container-id-1 div.sk-item {position: relative;z-index: 1;}#sk-container-id-1 div.sk-parallel {display: flex;align-items: stretch;justify-content: center;background-color: white;position: relative;}#sk-container-id-1 div.sk-item::before, #sk-container-id-1 div.sk-parallel-item::before {content: \"\";position: absolute;border-left: 1px solid gray;box-sizing: border-box;top: 0;bottom: 0;left: 50%;z-index: -1;}#sk-container-id-1 div.sk-parallel-item {display: flex;flex-direction: column;z-index: 1;position: relative;background-color: white;}#sk-container-id-1 div.sk-parallel-item:first-child::after {align-self: flex-end;width: 50%;}#sk-container-id-1 div.sk-parallel-item:last-child::after {align-self: flex-start;width: 50%;}#sk-container-id-1 div.sk-parallel-item:only-child::after {width: 0;}#sk-container-id-1 div.sk-dashed-wrapped {border: 1px dashed gray;margin: 0 0.4em 0.5em 0.4em;box-sizing: border-box;padding-bottom: 0.4em;background-color: white;}#sk-container-id-1 div.sk-label label {font-family: monospace;font-weight: bold;display: inline-block;line-height: 1.2em;}#sk-container-id-1 div.sk-label-container {text-align: center;}#sk-container-id-1 div.sk-container {/* jupyter's `normalize.less` sets `[hidden] { display: none; }` but bootstrap.min.css set `[hidden] { display: none !important; }` so we also need the `!important` here to be able to override the default hidden behavior on the sphinx rendered scikit-learn.org. See: https://github.com/scikit-learn/scikit-learn/issues/21755 */display: inline-block !important;position: relative;}#sk-container-id-1 div.sk-text-repr-fallback {display: none;}</style><div id=\"sk-container-id-1\" class=\"sk-top-container\"><div class=\"sk-text-repr-fallback\"><pre>RandomForestClassifier()</pre><b>In a Jupyter environment, please rerun this cell to show the HTML representation or trust the notebook. <br />On GitHub, the HTML representation is unable to render, please try loading this page with nbviewer.org.</b></div><div class=\"sk-container\" hidden><div class=\"sk-item\"><div class=\"sk-estimator sk-toggleable\"><input class=\"sk-toggleable__control sk-hidden--visually\" id=\"sk-estimator-id-1\" type=\"checkbox\" checked><label for=\"sk-estimator-id-1\" class=\"sk-toggleable__label sk-toggleable__label-arrow\">RandomForestClassifier</label><div class=\"sk-toggleable__content\"><pre>RandomForestClassifier()</pre></div></div></div></div></div>"
      ],
      "text/plain": [
       "RandomForestClassifier()"
      ]
     },
     "execution_count": 11,
     "metadata": {},
     "output_type": "execute_result"
    }
   ],
   "source": [
    "# fit (20% test size)\n",
    "rfc.fit(X_train_20,y_train_20)"
   ]
  },
  {
   "cell_type": "code",
   "execution_count": 12,
   "id": "853acd26-cbb4-4ad3-b53e-1d7e07bab7b0",
   "metadata": {},
   "outputs": [],
   "source": [
    "# Making predictions (20% test size)\n",
    "predictions = rfc.predict(X_test_20)"
   ]
  },
  {
   "cell_type": "code",
   "execution_count": 13,
   "id": "85b1e1bc-7b2a-48d8-b40e-24b19564619f",
   "metadata": {},
   "outputs": [],
   "source": [
    "# Importing classification report and confusion matrix from sklearn metrics\n",
    "from sklearn.metrics import classification_report,confusion_matrix, accuracy_score"
   ]
  },
  {
   "cell_type": "code",
   "execution_count": 14,
   "id": "3122d8a5-855a-48fa-8602-6b017a4bc58b",
   "metadata": {},
   "outputs": [
    {
     "name": "stdout",
     "output_type": "stream",
     "text": [
      "                    precision    recall  f1-score   support\n",
      "\n",
      "associate's degree       0.21      0.32      0.25        38\n",
      " bachelor's degree       0.17      0.06      0.09        33\n",
      "       high school       0.23      0.24      0.23        37\n",
      "   master's degree       0.00      0.00      0.00         9\n",
      "      some college       0.22      0.22      0.22        49\n",
      "  some high school       0.21      0.21      0.21        34\n",
      "\n",
      "          accuracy                           0.20       200\n",
      "         macro avg       0.17      0.18      0.17       200\n",
      "      weighted avg       0.20      0.20      0.19       200\n",
      "\n"
     ]
    }
   ],
   "source": [
    "# Let's check the report of our default model (20% test size)\n",
    "print(classification_report(y_test_20,predictions))"
   ]
  },
  {
   "cell_type": "markdown",
   "id": "bffad999-2cb3-4f2d-b044-c9c4460a8629",
   "metadata": {},
   "source": [
    "Since the values are not good, I will try to improve them by reducing the 6 classes to only 2:\n",
    "- Group 1: degrees\n",
    "- Group 2: school and college"
   ]
  },
  {
   "cell_type": "code",
   "execution_count": 15,
   "id": "e5fedf9a-ff35-4ff9-a3b5-5b114bf12b4a",
   "metadata": {},
   "outputs": [],
   "source": [
    "# Reducing the classes from 6 to only 2:\n",
    "mapping = {\n",
    "    \"associate's degree\": 1,  # Group 1\n",
    "    \"bachelor's degree\": 1,   # Group 1\n",
    "    \"master's degree\": 1,     # Group 1\n",
    "    \"high school\": 0,         # Group 2\n",
    "    \"some college\": 0,        # Group 2\n",
    "    \"some high school\": 0     # Group 2\n",
    "}\n",
    "\n",
    "# Apply the mapping to create the new binary target variable\n",
    "df['level_of_education'] = df['parental_level_of_education'].map(mapping)\n",
    "# Dropping the original column\n",
    "df = df.drop(['parental_level_of_education'], axis=1)"
   ]
  },
  {
   "cell_type": "code",
   "execution_count": 16,
   "id": "196f5ca7-8e84-4920-bb86-0e056fbd13f2",
   "metadata": {},
   "outputs": [
    {
     "data": {
      "text/html": [
       "<div>\n",
       "<style scoped>\n",
       "    .dataframe tbody tr th:only-of-type {\n",
       "        vertical-align: middle;\n",
       "    }\n",
       "\n",
       "    .dataframe tbody tr th {\n",
       "        vertical-align: top;\n",
       "    }\n",
       "\n",
       "    .dataframe thead th {\n",
       "        text-align: right;\n",
       "    }\n",
       "</style>\n",
       "<table border=\"1\" class=\"dataframe\">\n",
       "  <thead>\n",
       "    <tr style=\"text-align: right;\">\n",
       "      <th></th>\n",
       "      <th>test_preparation_course</th>\n",
       "      <th>math_score</th>\n",
       "      <th>reading_score</th>\n",
       "      <th>writing_score</th>\n",
       "      <th>level_of_education</th>\n",
       "    </tr>\n",
       "  </thead>\n",
       "  <tbody>\n",
       "    <tr>\n",
       "      <th>0</th>\n",
       "      <td>0</td>\n",
       "      <td>72</td>\n",
       "      <td>72</td>\n",
       "      <td>74</td>\n",
       "      <td>1</td>\n",
       "    </tr>\n",
       "    <tr>\n",
       "      <th>1</th>\n",
       "      <td>1</td>\n",
       "      <td>69</td>\n",
       "      <td>90</td>\n",
       "      <td>88</td>\n",
       "      <td>0</td>\n",
       "    </tr>\n",
       "    <tr>\n",
       "      <th>2</th>\n",
       "      <td>0</td>\n",
       "      <td>90</td>\n",
       "      <td>95</td>\n",
       "      <td>93</td>\n",
       "      <td>1</td>\n",
       "    </tr>\n",
       "    <tr>\n",
       "      <th>3</th>\n",
       "      <td>0</td>\n",
       "      <td>47</td>\n",
       "      <td>57</td>\n",
       "      <td>44</td>\n",
       "      <td>1</td>\n",
       "    </tr>\n",
       "    <tr>\n",
       "      <th>4</th>\n",
       "      <td>0</td>\n",
       "      <td>76</td>\n",
       "      <td>78</td>\n",
       "      <td>75</td>\n",
       "      <td>0</td>\n",
       "    </tr>\n",
       "    <tr>\n",
       "      <th>5</th>\n",
       "      <td>0</td>\n",
       "      <td>71</td>\n",
       "      <td>83</td>\n",
       "      <td>78</td>\n",
       "      <td>1</td>\n",
       "    </tr>\n",
       "    <tr>\n",
       "      <th>6</th>\n",
       "      <td>1</td>\n",
       "      <td>88</td>\n",
       "      <td>95</td>\n",
       "      <td>92</td>\n",
       "      <td>0</td>\n",
       "    </tr>\n",
       "    <tr>\n",
       "      <th>7</th>\n",
       "      <td>0</td>\n",
       "      <td>40</td>\n",
       "      <td>43</td>\n",
       "      <td>39</td>\n",
       "      <td>0</td>\n",
       "    </tr>\n",
       "    <tr>\n",
       "      <th>8</th>\n",
       "      <td>1</td>\n",
       "      <td>64</td>\n",
       "      <td>64</td>\n",
       "      <td>67</td>\n",
       "      <td>0</td>\n",
       "    </tr>\n",
       "    <tr>\n",
       "      <th>9</th>\n",
       "      <td>0</td>\n",
       "      <td>38</td>\n",
       "      <td>60</td>\n",
       "      <td>50</td>\n",
       "      <td>0</td>\n",
       "    </tr>\n",
       "  </tbody>\n",
       "</table>\n",
       "</div>"
      ],
      "text/plain": [
       "   test_preparation_course  math_score  reading_score  writing_score  \\\n",
       "0                        0          72             72             74   \n",
       "1                        1          69             90             88   \n",
       "2                        0          90             95             93   \n",
       "3                        0          47             57             44   \n",
       "4                        0          76             78             75   \n",
       "5                        0          71             83             78   \n",
       "6                        1          88             95             92   \n",
       "7                        0          40             43             39   \n",
       "8                        1          64             64             67   \n",
       "9                        0          38             60             50   \n",
       "\n",
       "   level_of_education  \n",
       "0                   1  \n",
       "1                   0  \n",
       "2                   1  \n",
       "3                   1  \n",
       "4                   0  \n",
       "5                   1  \n",
       "6                   0  \n",
       "7                   0  \n",
       "8                   0  \n",
       "9                   0  "
      ]
     },
     "execution_count": 16,
     "metadata": {},
     "output_type": "execute_result"
    }
   ],
   "source": [
    "# Show the revisited table\n",
    "df.head(10)"
   ]
  },
  {
   "cell_type": "code",
   "execution_count": 17,
   "id": "3da09a1f-8805-4a8f-bc1f-4cf9a9e61db1",
   "metadata": {},
   "outputs": [],
   "source": [
    "# Putting feature variable to X\n",
    "X = df.drop('level_of_education',axis=1)\n",
    "\n",
    "# Putting response variable to y\n",
    "y = df['level_of_education']\n",
    "\n",
    "# Split dataset into training set and test set (20% test size)\n",
    "X_train_20, X_test_20, y_train_20, y_test_20 = train_test_split(X, y, test_size=0.2, random_state=1)\n",
    "\n",
    "# Split dataset into training set and test set (25% test size)\n",
    "X_train_25, X_test_25, y_train_25, y_test_25 = train_test_split(X, y, test_size=0.25, random_state=1)\n",
    "\n",
    "# Split dataset into training set and test set (30% test size)\n",
    "X_train_30, X_test_30, y_train_30, y_test_30 = train_test_split(X, y, test_size=0.3, random_state=1)"
   ]
  },
  {
   "cell_type": "code",
   "execution_count": 18,
   "id": "b6a357f7-2238-421c-a902-b45347533ccc",
   "metadata": {},
   "outputs": [],
   "source": [
    "# Running the random forest with default parameters.\n",
    "rfc = RandomForestClassifier()"
   ]
  },
  {
   "cell_type": "code",
   "execution_count": 19,
   "id": "b308444b-5bd1-4ba1-8c14-629bdb0cb0c4",
   "metadata": {},
   "outputs": [
    {
     "name": "stdout",
     "output_type": "stream",
     "text": [
      "              precision    recall  f1-score   support\n",
      "\n",
      "           0       0.62      0.72      0.67       120\n",
      "           1       0.45      0.35      0.39        80\n",
      "\n",
      "    accuracy                           0.57       200\n",
      "   macro avg       0.54      0.53      0.53       200\n",
      "weighted avg       0.55      0.57      0.56       200\n",
      "\n"
     ]
    }
   ],
   "source": [
    "# fit (20% test size)\n",
    "rfc.fit(X_train_20,y_train_20)\n",
    "\n",
    "# Making predictions\n",
    "predictions = rfc.predict(X_test_20)\n",
    "\n",
    "# Let's check the report of our default model\n",
    "print(classification_report(y_test_20,predictions))"
   ]
  },
  {
   "cell_type": "code",
   "execution_count": 20,
   "id": "560df887-48f2-4961-a768-708a312abfea",
   "metadata": {},
   "outputs": [
    {
     "name": "stdout",
     "output_type": "stream",
     "text": [
      "              precision    recall  f1-score   support\n",
      "\n",
      "           0       0.65      0.70      0.67       153\n",
      "           1       0.46      0.40      0.43        97\n",
      "\n",
      "    accuracy                           0.58       250\n",
      "   macro avg       0.55      0.55      0.55       250\n",
      "weighted avg       0.57      0.58      0.58       250\n",
      "\n"
     ]
    }
   ],
   "source": [
    "# fit (25% test size)\n",
    "rfc.fit(X_train_25,y_train_25)\n",
    "\n",
    "# Making predictions\n",
    "predictions = rfc.predict(X_test_25)\n",
    "\n",
    "# Let's check the report of our default model\n",
    "print(classification_report(y_test_25,predictions))"
   ]
  },
  {
   "cell_type": "code",
   "execution_count": 21,
   "id": "8942be2b-54b4-4f24-94b0-179f1b002aea",
   "metadata": {},
   "outputs": [
    {
     "name": "stdout",
     "output_type": "stream",
     "text": [
      "              precision    recall  f1-score   support\n",
      "\n",
      "           0       0.66      0.70      0.68       181\n",
      "           1       0.49      0.45      0.47       119\n",
      "\n",
      "    accuracy                           0.60       300\n",
      "   macro avg       0.57      0.57      0.57       300\n",
      "weighted avg       0.59      0.60      0.59       300\n",
      "\n"
     ]
    }
   ],
   "source": [
    "# fit (30% test size)\n",
    "rfc.fit(X_train_30,y_train_30)\n",
    "\n",
    "# Making predictions\n",
    "predictions = rfc.predict(X_test_30)\n",
    "\n",
    "# Let's check the report of our default model\n",
    "print(classification_report(y_test_30,predictions))"
   ]
  },
  {
   "cell_type": "markdown",
   "id": "79e7698e-88fe-487e-99b1-f4a2c11a008d",
   "metadata": {},
   "source": [
    "Apparently, the idea of grouping was useful as the values make now more sense.\n",
    "We obtain the best results with the following combination: 75% training set & 25% test set"
   ]
  },
  {
   "cell_type": "markdown",
   "id": "719f34fd-d023-40d0-ae42-a541ea6e5a58",
   "metadata": {},
   "source": [
    "## Hyperparameter Tuning\n",
    "### Tuning max_depth\n",
    "Let's try to find the optimum values for ```max_depth``` and understand how the value of max_depth impacts the overall accuracy of the ensemble."
   ]
  },
  {
   "cell_type": "code",
   "execution_count": 22,
   "id": "6fb24c4e-11d5-4e38-8e82-749dd7696ab5",
   "metadata": {},
   "outputs": [
    {
     "data": {
      "text/html": [
       "<style>#sk-container-id-2 {color: black;background-color: white;}#sk-container-id-2 pre{padding: 0;}#sk-container-id-2 div.sk-toggleable {background-color: white;}#sk-container-id-2 label.sk-toggleable__label {cursor: pointer;display: block;width: 100%;margin-bottom: 0;padding: 0.3em;box-sizing: border-box;text-align: center;}#sk-container-id-2 label.sk-toggleable__label-arrow:before {content: \"▸\";float: left;margin-right: 0.25em;color: #696969;}#sk-container-id-2 label.sk-toggleable__label-arrow:hover:before {color: black;}#sk-container-id-2 div.sk-estimator:hover label.sk-toggleable__label-arrow:before {color: black;}#sk-container-id-2 div.sk-toggleable__content {max-height: 0;max-width: 0;overflow: hidden;text-align: left;background-color: #f0f8ff;}#sk-container-id-2 div.sk-toggleable__content pre {margin: 0.2em;color: black;border-radius: 0.25em;background-color: #f0f8ff;}#sk-container-id-2 input.sk-toggleable__control:checked~div.sk-toggleable__content {max-height: 200px;max-width: 100%;overflow: auto;}#sk-container-id-2 input.sk-toggleable__control:checked~label.sk-toggleable__label-arrow:before {content: \"▾\";}#sk-container-id-2 div.sk-estimator input.sk-toggleable__control:checked~label.sk-toggleable__label {background-color: #d4ebff;}#sk-container-id-2 div.sk-label input.sk-toggleable__control:checked~label.sk-toggleable__label {background-color: #d4ebff;}#sk-container-id-2 input.sk-hidden--visually {border: 0;clip: rect(1px 1px 1px 1px);clip: rect(1px, 1px, 1px, 1px);height: 1px;margin: -1px;overflow: hidden;padding: 0;position: absolute;width: 1px;}#sk-container-id-2 div.sk-estimator {font-family: monospace;background-color: #f0f8ff;border: 1px dotted black;border-radius: 0.25em;box-sizing: border-box;margin-bottom: 0.5em;}#sk-container-id-2 div.sk-estimator:hover {background-color: #d4ebff;}#sk-container-id-2 div.sk-parallel-item::after {content: \"\";width: 100%;border-bottom: 1px solid gray;flex-grow: 1;}#sk-container-id-2 div.sk-label:hover label.sk-toggleable__label {background-color: #d4ebff;}#sk-container-id-2 div.sk-serial::before {content: \"\";position: absolute;border-left: 1px solid gray;box-sizing: border-box;top: 0;bottom: 0;left: 50%;z-index: 0;}#sk-container-id-2 div.sk-serial {display: flex;flex-direction: column;align-items: center;background-color: white;padding-right: 0.2em;padding-left: 0.2em;position: relative;}#sk-container-id-2 div.sk-item {position: relative;z-index: 1;}#sk-container-id-2 div.sk-parallel {display: flex;align-items: stretch;justify-content: center;background-color: white;position: relative;}#sk-container-id-2 div.sk-item::before, #sk-container-id-2 div.sk-parallel-item::before {content: \"\";position: absolute;border-left: 1px solid gray;box-sizing: border-box;top: 0;bottom: 0;left: 50%;z-index: -1;}#sk-container-id-2 div.sk-parallel-item {display: flex;flex-direction: column;z-index: 1;position: relative;background-color: white;}#sk-container-id-2 div.sk-parallel-item:first-child::after {align-self: flex-end;width: 50%;}#sk-container-id-2 div.sk-parallel-item:last-child::after {align-self: flex-start;width: 50%;}#sk-container-id-2 div.sk-parallel-item:only-child::after {width: 0;}#sk-container-id-2 div.sk-dashed-wrapped {border: 1px dashed gray;margin: 0 0.4em 0.5em 0.4em;box-sizing: border-box;padding-bottom: 0.4em;background-color: white;}#sk-container-id-2 div.sk-label label {font-family: monospace;font-weight: bold;display: inline-block;line-height: 1.2em;}#sk-container-id-2 div.sk-label-container {text-align: center;}#sk-container-id-2 div.sk-container {/* jupyter's `normalize.less` sets `[hidden] { display: none; }` but bootstrap.min.css set `[hidden] { display: none !important; }` so we also need the `!important` here to be able to override the default hidden behavior on the sphinx rendered scikit-learn.org. See: https://github.com/scikit-learn/scikit-learn/issues/21755 */display: inline-block !important;position: relative;}#sk-container-id-2 div.sk-text-repr-fallback {display: none;}</style><div id=\"sk-container-id-2\" class=\"sk-top-container\"><div class=\"sk-text-repr-fallback\"><pre>GridSearchCV(cv=5, estimator=RandomForestClassifier(),\n",
       "             param_grid={&#x27;max_depth&#x27;: range(1, 21, 2)}, scoring=&#x27;accuracy&#x27;)</pre><b>In a Jupyter environment, please rerun this cell to show the HTML representation or trust the notebook. <br />On GitHub, the HTML representation is unable to render, please try loading this page with nbviewer.org.</b></div><div class=\"sk-container\" hidden><div class=\"sk-item sk-dashed-wrapped\"><div class=\"sk-label-container\"><div class=\"sk-label sk-toggleable\"><input class=\"sk-toggleable__control sk-hidden--visually\" id=\"sk-estimator-id-2\" type=\"checkbox\" ><label for=\"sk-estimator-id-2\" class=\"sk-toggleable__label sk-toggleable__label-arrow\">GridSearchCV</label><div class=\"sk-toggleable__content\"><pre>GridSearchCV(cv=5, estimator=RandomForestClassifier(),\n",
       "             param_grid={&#x27;max_depth&#x27;: range(1, 21, 2)}, scoring=&#x27;accuracy&#x27;)</pre></div></div></div><div class=\"sk-parallel\"><div class=\"sk-parallel-item\"><div class=\"sk-item\"><div class=\"sk-label-container\"><div class=\"sk-label sk-toggleable\"><input class=\"sk-toggleable__control sk-hidden--visually\" id=\"sk-estimator-id-3\" type=\"checkbox\" ><label for=\"sk-estimator-id-3\" class=\"sk-toggleable__label sk-toggleable__label-arrow\">estimator: RandomForestClassifier</label><div class=\"sk-toggleable__content\"><pre>RandomForestClassifier()</pre></div></div></div><div class=\"sk-serial\"><div class=\"sk-item\"><div class=\"sk-estimator sk-toggleable\"><input class=\"sk-toggleable__control sk-hidden--visually\" id=\"sk-estimator-id-4\" type=\"checkbox\" ><label for=\"sk-estimator-id-4\" class=\"sk-toggleable__label sk-toggleable__label-arrow\">RandomForestClassifier</label><div class=\"sk-toggleable__content\"><pre>RandomForestClassifier()</pre></div></div></div></div></div></div></div></div></div></div>"
      ],
      "text/plain": [
       "GridSearchCV(cv=5, estimator=RandomForestClassifier(),\n",
       "             param_grid={'max_depth': range(1, 21, 2)}, scoring='accuracy')"
      ]
     },
     "execution_count": 22,
     "metadata": {},
     "output_type": "execute_result"
    }
   ],
   "source": [
    "# GridSearchCV to find optimal n_estimators\n",
    "from sklearn.model_selection import KFold\n",
    "from sklearn.model_selection import GridSearchCV\n",
    "\n",
    "# specify number of folds for k-fold CV - considering the size of the dataset I would go with 5\n",
    "n_folds = 5\n",
    "\n",
    "# parameters to build the model on\n",
    "parameters = {'max_depth': range(1, 21, 2)}\n",
    "\n",
    "# instantiate the model\n",
    "rf = RandomForestClassifier()\n",
    "\n",
    "# fit tree on training data\n",
    "rf = GridSearchCV(rf, parameters, \n",
    "                    cv=n_folds, \n",
    "                   scoring=\"accuracy\")\n",
    "rf.fit(X_train_25, y_train_25)"
   ]
  },
  {
   "cell_type": "code",
   "execution_count": 23,
   "id": "7978b036-c70a-4dc7-b3c4-4d8de50a8549",
   "metadata": {},
   "outputs": [
    {
     "data": {
      "text/html": [
       "<div>\n",
       "<style scoped>\n",
       "    .dataframe tbody tr th:only-of-type {\n",
       "        vertical-align: middle;\n",
       "    }\n",
       "\n",
       "    .dataframe tbody tr th {\n",
       "        vertical-align: top;\n",
       "    }\n",
       "\n",
       "    .dataframe thead th {\n",
       "        text-align: right;\n",
       "    }\n",
       "</style>\n",
       "<table border=\"1\" class=\"dataframe\">\n",
       "  <thead>\n",
       "    <tr style=\"text-align: right;\">\n",
       "      <th></th>\n",
       "      <th>mean_fit_time</th>\n",
       "      <th>std_fit_time</th>\n",
       "      <th>mean_score_time</th>\n",
       "      <th>std_score_time</th>\n",
       "      <th>param_max_depth</th>\n",
       "      <th>params</th>\n",
       "      <th>split0_test_score</th>\n",
       "      <th>split1_test_score</th>\n",
       "      <th>split2_test_score</th>\n",
       "      <th>split3_test_score</th>\n",
       "      <th>split4_test_score</th>\n",
       "      <th>mean_test_score</th>\n",
       "      <th>std_test_score</th>\n",
       "      <th>rank_test_score</th>\n",
       "    </tr>\n",
       "  </thead>\n",
       "  <tbody>\n",
       "    <tr>\n",
       "      <th>0</th>\n",
       "      <td>0.242068</td>\n",
       "      <td>0.031580</td>\n",
       "      <td>0.019155</td>\n",
       "      <td>0.006084</td>\n",
       "      <td>1</td>\n",
       "      <td>{'max_depth': 1}</td>\n",
       "      <td>0.666667</td>\n",
       "      <td>0.620000</td>\n",
       "      <td>0.633333</td>\n",
       "      <td>0.593333</td>\n",
       "      <td>0.613333</td>\n",
       "      <td>0.625333</td>\n",
       "      <td>0.024368</td>\n",
       "      <td>1</td>\n",
       "    </tr>\n",
       "    <tr>\n",
       "      <th>1</th>\n",
       "      <td>0.217148</td>\n",
       "      <td>0.027384</td>\n",
       "      <td>0.017282</td>\n",
       "      <td>0.007819</td>\n",
       "      <td>3</td>\n",
       "      <td>{'max_depth': 3}</td>\n",
       "      <td>0.680000</td>\n",
       "      <td>0.620000</td>\n",
       "      <td>0.620000</td>\n",
       "      <td>0.600000</td>\n",
       "      <td>0.593333</td>\n",
       "      <td>0.622667</td>\n",
       "      <td>0.030580</td>\n",
       "      <td>2</td>\n",
       "    </tr>\n",
       "    <tr>\n",
       "      <th>2</th>\n",
       "      <td>0.244897</td>\n",
       "      <td>0.038681</td>\n",
       "      <td>0.019900</td>\n",
       "      <td>0.005075</td>\n",
       "      <td>5</td>\n",
       "      <td>{'max_depth': 5}</td>\n",
       "      <td>0.653333</td>\n",
       "      <td>0.613333</td>\n",
       "      <td>0.606667</td>\n",
       "      <td>0.593333</td>\n",
       "      <td>0.593333</td>\n",
       "      <td>0.612000</td>\n",
       "      <td>0.022071</td>\n",
       "      <td>3</td>\n",
       "    </tr>\n",
       "    <tr>\n",
       "      <th>3</th>\n",
       "      <td>0.291617</td>\n",
       "      <td>0.041611</td>\n",
       "      <td>0.026193</td>\n",
       "      <td>0.010747</td>\n",
       "      <td>7</td>\n",
       "      <td>{'max_depth': 7}</td>\n",
       "      <td>0.620000</td>\n",
       "      <td>0.613333</td>\n",
       "      <td>0.600000</td>\n",
       "      <td>0.573333</td>\n",
       "      <td>0.586667</td>\n",
       "      <td>0.598667</td>\n",
       "      <td>0.017075</td>\n",
       "      <td>4</td>\n",
       "    </tr>\n",
       "    <tr>\n",
       "      <th>4</th>\n",
       "      <td>0.250268</td>\n",
       "      <td>0.034541</td>\n",
       "      <td>0.012501</td>\n",
       "      <td>0.006251</td>\n",
       "      <td>9</td>\n",
       "      <td>{'max_depth': 9}</td>\n",
       "      <td>0.626667</td>\n",
       "      <td>0.593333</td>\n",
       "      <td>0.600000</td>\n",
       "      <td>0.533333</td>\n",
       "      <td>0.593333</td>\n",
       "      <td>0.589333</td>\n",
       "      <td>0.030580</td>\n",
       "      <td>5</td>\n",
       "    </tr>\n",
       "  </tbody>\n",
       "</table>\n",
       "</div>"
      ],
      "text/plain": [
       "   mean_fit_time  std_fit_time  mean_score_time  std_score_time  \\\n",
       "0       0.242068      0.031580         0.019155        0.006084   \n",
       "1       0.217148      0.027384         0.017282        0.007819   \n",
       "2       0.244897      0.038681         0.019900        0.005075   \n",
       "3       0.291617      0.041611         0.026193        0.010747   \n",
       "4       0.250268      0.034541         0.012501        0.006251   \n",
       "\n",
       "  param_max_depth            params  split0_test_score  split1_test_score  \\\n",
       "0               1  {'max_depth': 1}           0.666667           0.620000   \n",
       "1               3  {'max_depth': 3}           0.680000           0.620000   \n",
       "2               5  {'max_depth': 5}           0.653333           0.613333   \n",
       "3               7  {'max_depth': 7}           0.620000           0.613333   \n",
       "4               9  {'max_depth': 9}           0.626667           0.593333   \n",
       "\n",
       "   split2_test_score  split3_test_score  split4_test_score  mean_test_score  \\\n",
       "0           0.633333           0.593333           0.613333         0.625333   \n",
       "1           0.620000           0.600000           0.593333         0.622667   \n",
       "2           0.606667           0.593333           0.593333         0.612000   \n",
       "3           0.600000           0.573333           0.586667         0.598667   \n",
       "4           0.600000           0.533333           0.593333         0.589333   \n",
       "\n",
       "   std_test_score  rank_test_score  \n",
       "0        0.024368                1  \n",
       "1        0.030580                2  \n",
       "2        0.022071                3  \n",
       "3        0.017075                4  \n",
       "4        0.030580                5  "
      ]
     },
     "execution_count": 23,
     "metadata": {},
     "output_type": "execute_result"
    }
   ],
   "source": [
    "# scores of GridSearch CV\n",
    "scores = rf.cv_results_\n",
    "pd.DataFrame(scores).head()"
   ]
  },
  {
   "cell_type": "markdown",
   "id": "f00790da-fbe6-49b4-a946-d97f8072e94a",
   "metadata": {},
   "source": [
    "After this analysis, we can see as we obtain the best values when max depth = 3."
   ]
  },
  {
   "cell_type": "code",
   "execution_count": 24,
   "id": "2a5a25d8-2fe2-4569-97c5-51446e109f82",
   "metadata": {},
   "outputs": [
    {
     "data": {
      "image/png": "[encoded data removed]",
      "text/plain": [
       "<Figure size 640x480 with 1 Axes>"
      ]
     },
     "metadata": {},
     "output_type": "display_data"
    }
   ],
   "source": [
    "# plotting accuracies with max_depth\n",
    "plt.figure()\n",
    "plt.plot(scores[\"param_max_depth\"], \n",
    "         scores[\"mean_test_score\"], \n",
    "         label=\"test accuracy\")\n",
    "plt.xlabel(\"max_depth\")\n",
    "plt.ylabel(\"Accuracy\")\n",
    "plt.legend()\n",
    "plt.show()"
   ]
  },
  {
   "cell_type": "markdown",
   "id": "27e8335f-4f5f-4837-85c7-9318c96f063b",
   "metadata": {},
   "source": [
    "Also on the chart we can see that the accuracy score increases until max_depth = 3 and after it starts to decrease."
   ]
  },
  {
   "cell_type": "markdown",
   "id": "6a79b37e-33f3-4579-ace0-bdf018e49ad0",
   "metadata": {},
   "source": [
    "## Grid Search to Find Optimal Hyperparameters"
   ]
  },
  {
   "cell_type": "code",
   "execution_count": 25,
   "id": "e3ec01a8-6502-4881-b059-0ed54619f857",
   "metadata": {},
   "outputs": [],
   "source": [
    "# Create the parameter grid based on the results of random search \n",
    "param_grid = {\n",
    "    'max_depth': [1, 3, 5],\n",
    "    'min_samples_leaf': range(50, 200, 100),\n",
    "    'min_samples_split': range(100, 250, 100),\n",
    "    'n_estimators': [50, 100, 200], \n",
    "    'max_features': [5, 10]\n",
    "}\n",
    "# Create a based model\n",
    "rf = RandomForestClassifier()\n",
    "# Instantiate the grid search model\n",
    "grid_search = GridSearchCV(estimator = rf, param_grid = param_grid, \n",
    "                          cv = 4, n_jobs = -1,verbose = 1)"
   ]
  },
  {
   "cell_type": "code",
   "execution_count": 26,
   "id": "8c1044d8-e7ef-4451-bc1c-f5a7a7177d5a",
   "metadata": {},
   "outputs": [
    {
     "name": "stdout",
     "output_type": "stream",
     "text": [
      "Fitting 4 folds for each of 72 candidates, totalling 288 fits\n"
     ]
    },
    {
     "data": {
      "text/html": [
       "<style>#sk-container-id-3 {color: black;background-color: white;}#sk-container-id-3 pre{padding: 0;}#sk-container-id-3 div.sk-toggleable {background-color: white;}#sk-container-id-3 label.sk-toggleable__label {cursor: pointer;display: block;width: 100%;margin-bottom: 0;padding: 0.3em;box-sizing: border-box;text-align: center;}#sk-container-id-3 label.sk-toggleable__label-arrow:before {content: \"▸\";float: left;margin-right: 0.25em;color: #696969;}#sk-container-id-3 label.sk-toggleable__label-arrow:hover:before {color: black;}#sk-container-id-3 div.sk-estimator:hover label.sk-toggleable__label-arrow:before {color: black;}#sk-container-id-3 div.sk-toggleable__content {max-height: 0;max-width: 0;overflow: hidden;text-align: left;background-color: #f0f8ff;}#sk-container-id-3 div.sk-toggleable__content pre {margin: 0.2em;color: black;border-radius: 0.25em;background-color: #f0f8ff;}#sk-container-id-3 input.sk-toggleable__control:checked~div.sk-toggleable__content {max-height: 200px;max-width: 100%;overflow: auto;}#sk-container-id-3 input.sk-toggleable__control:checked~label.sk-toggleable__label-arrow:before {content: \"▾\";}#sk-container-id-3 div.sk-estimator input.sk-toggleable__control:checked~label.sk-toggleable__label {background-color: #d4ebff;}#sk-container-id-3 div.sk-label input.sk-toggleable__control:checked~label.sk-toggleable__label {background-color: #d4ebff;}#sk-container-id-3 input.sk-hidden--visually {border: 0;clip: rect(1px 1px 1px 1px);clip: rect(1px, 1px, 1px, 1px);height: 1px;margin: -1px;overflow: hidden;padding: 0;position: absolute;width: 1px;}#sk-container-id-3 div.sk-estimator {font-family: monospace;background-color: #f0f8ff;border: 1px dotted black;border-radius: 0.25em;box-sizing: border-box;margin-bottom: 0.5em;}#sk-container-id-3 div.sk-estimator:hover {background-color: #d4ebff;}#sk-container-id-3 div.sk-parallel-item::after {content: \"\";width: 100%;border-bottom: 1px solid gray;flex-grow: 1;}#sk-container-id-3 div.sk-label:hover label.sk-toggleable__label {background-color: #d4ebff;}#sk-container-id-3 div.sk-serial::before {content: \"\";position: absolute;border-left: 1px solid gray;box-sizing: border-box;top: 0;bottom: 0;left: 50%;z-index: 0;}#sk-container-id-3 div.sk-serial {display: flex;flex-direction: column;align-items: center;background-color: white;padding-right: 0.2em;padding-left: 0.2em;position: relative;}#sk-container-id-3 div.sk-item {position: relative;z-index: 1;}#sk-container-id-3 div.sk-parallel {display: flex;align-items: stretch;justify-content: center;background-color: white;position: relative;}#sk-container-id-3 div.sk-item::before, #sk-container-id-3 div.sk-parallel-item::before {content: \"\";position: absolute;border-left: 1px solid gray;box-sizing: border-box;top: 0;bottom: 0;left: 50%;z-index: -1;}#sk-container-id-3 div.sk-parallel-item {display: flex;flex-direction: column;z-index: 1;position: relative;background-color: white;}#sk-container-id-3 div.sk-parallel-item:first-child::after {align-self: flex-end;width: 50%;}#sk-container-id-3 div.sk-parallel-item:last-child::after {align-self: flex-start;width: 50%;}#sk-container-id-3 div.sk-parallel-item:only-child::after {width: 0;}#sk-container-id-3 div.sk-dashed-wrapped {border: 1px dashed gray;margin: 0 0.4em 0.5em 0.4em;box-sizing: border-box;padding-bottom: 0.4em;background-color: white;}#sk-container-id-3 div.sk-label label {font-family: monospace;font-weight: bold;display: inline-block;line-height: 1.2em;}#sk-container-id-3 div.sk-label-container {text-align: center;}#sk-container-id-3 div.sk-container {/* jupyter's `normalize.less` sets `[hidden] { display: none; }` but bootstrap.min.css set `[hidden] { display: none !important; }` so we also need the `!important` here to be able to override the default hidden behavior on the sphinx rendered scikit-learn.org. See: https://github.com/scikit-learn/scikit-learn/issues/21755 */display: inline-block !important;position: relative;}#sk-container-id-3 div.sk-text-repr-fallback {display: none;}</style><div id=\"sk-container-id-3\" class=\"sk-top-container\"><div class=\"sk-text-repr-fallback\"><pre>GridSearchCV(cv=4, estimator=RandomForestClassifier(), n_jobs=-1,\n",
       "             param_grid={&#x27;max_depth&#x27;: [1, 3, 5], &#x27;max_features&#x27;: [5, 10],\n",
       "                         &#x27;min_samples_leaf&#x27;: range(50, 200, 100),\n",
       "                         &#x27;min_samples_split&#x27;: range(100, 250, 100),\n",
       "                         &#x27;n_estimators&#x27;: [50, 100, 200]},\n",
       "             verbose=1)</pre><b>In a Jupyter environment, please rerun this cell to show the HTML representation or trust the notebook. <br />On GitHub, the HTML representation is unable to render, please try loading this page with nbviewer.org.</b></div><div class=\"sk-container\" hidden><div class=\"sk-item sk-dashed-wrapped\"><div class=\"sk-label-container\"><div class=\"sk-label sk-toggleable\"><input class=\"sk-toggleable__control sk-hidden--visually\" id=\"sk-estimator-id-5\" type=\"checkbox\" ><label for=\"sk-estimator-id-5\" class=\"sk-toggleable__label sk-toggleable__label-arrow\">GridSearchCV</label><div class=\"sk-toggleable__content\"><pre>GridSearchCV(cv=4, estimator=RandomForestClassifier(), n_jobs=-1,\n",
       "             param_grid={&#x27;max_depth&#x27;: [1, 3, 5], &#x27;max_features&#x27;: [5, 10],\n",
       "                         &#x27;min_samples_leaf&#x27;: range(50, 200, 100),\n",
       "                         &#x27;min_samples_split&#x27;: range(100, 250, 100),\n",
       "                         &#x27;n_estimators&#x27;: [50, 100, 200]},\n",
       "             verbose=1)</pre></div></div></div><div class=\"sk-parallel\"><div class=\"sk-parallel-item\"><div class=\"sk-item\"><div class=\"sk-label-container\"><div class=\"sk-label sk-toggleable\"><input class=\"sk-toggleable__control sk-hidden--visually\" id=\"sk-estimator-id-6\" type=\"checkbox\" ><label for=\"sk-estimator-id-6\" class=\"sk-toggleable__label sk-toggleable__label-arrow\">estimator: RandomForestClassifier</label><div class=\"sk-toggleable__content\"><pre>RandomForestClassifier()</pre></div></div></div><div class=\"sk-serial\"><div class=\"sk-item\"><div class=\"sk-estimator sk-toggleable\"><input class=\"sk-toggleable__control sk-hidden--visually\" id=\"sk-estimator-id-7\" type=\"checkbox\" ><label for=\"sk-estimator-id-7\" class=\"sk-toggleable__label sk-toggleable__label-arrow\">RandomForestClassifier</label><div class=\"sk-toggleable__content\"><pre>RandomForestClassifier()</pre></div></div></div></div></div></div></div></div></div></div>"
      ],
      "text/plain": [
       "GridSearchCV(cv=4, estimator=RandomForestClassifier(), n_jobs=-1,\n",
       "             param_grid={'max_depth': [1, 3, 5], 'max_features': [5, 10],\n",
       "                         'min_samples_leaf': range(50, 200, 100),\n",
       "                         'min_samples_split': range(100, 250, 100),\n",
       "                         'n_estimators': [50, 100, 200]},\n",
       "             verbose=1)"
      ]
     },
     "execution_count": 26,
     "metadata": {},
     "output_type": "execute_result"
    }
   ],
   "source": [
    "# Fit the grid search to the data\n",
    "grid_search.fit(X_train_25, y_train_25)"
   ]
  },
  {
   "cell_type": "code",
   "execution_count": 27,
   "id": "ad0f5dc7-0594-4c5a-9f01-43a190696bb5",
   "metadata": {},
   "outputs": [
    {
     "name": "stdout",
     "output_type": "stream",
     "text": [
      "The best value of accuracy we can get is 0.614617703948117 using the following hyperparameters combination -> {'max_depth': 5, 'max_features': 5, 'min_samples_leaf': 50, 'min_samples_split': 200, 'n_estimators': 100}\n"
     ]
    }
   ],
   "source": [
    "# printing the best accuracy score and hyperparameters\n",
    "print('The best value of accuracy we can get is',grid_search.best_score_,'using the following hyperparameters combination ->',grid_search.best_params_)"
   ]
  },
  {
   "cell_type": "code",
   "execution_count": 28,
   "id": "71d33fe0-bb82-4811-9af9-6ee19ea2470c",
   "metadata": {},
   "outputs": [],
   "source": [
    "# Fitting the final model with the best parameters obtained from grid search\n",
    "from sklearn.ensemble import RandomForestClassifier\n",
    "rfc = RandomForestClassifier(bootstrap=True,\n",
    "                             max_depth=3,\n",
    "                             min_samples_leaf=50, \n",
    "                             min_samples_split=200,\n",
    "                             max_features=5,\n",
    "                             n_estimators=100)"
   ]
  },
  {
   "cell_type": "code",
   "execution_count": 29,
   "id": "0f1e2f0d-4a8e-4896-9836-d132802a704e",
   "metadata": {},
   "outputs": [
    {
     "data": {
      "text/html": [
       "<style>#sk-container-id-4 {color: black;background-color: white;}#sk-container-id-4 pre{padding: 0;}#sk-container-id-4 div.sk-toggleable {background-color: white;}#sk-container-id-4 label.sk-toggleable__label {cursor: pointer;display: block;width: 100%;margin-bottom: 0;padding: 0.3em;box-sizing: border-box;text-align: center;}#sk-container-id-4 label.sk-toggleable__label-arrow:before {content: \"▸\";float: left;margin-right: 0.25em;color: #696969;}#sk-container-id-4 label.sk-toggleable__label-arrow:hover:before {color: black;}#sk-container-id-4 div.sk-estimator:hover label.sk-toggleable__label-arrow:before {color: black;}#sk-container-id-4 div.sk-toggleable__content {max-height: 0;max-width: 0;overflow: hidden;text-align: left;background-color: #f0f8ff;}#sk-container-id-4 div.sk-toggleable__content pre {margin: 0.2em;color: black;border-radius: 0.25em;background-color: #f0f8ff;}#sk-container-id-4 input.sk-toggleable__control:checked~div.sk-toggleable__content {max-height: 200px;max-width: 100%;overflow: auto;}#sk-container-id-4 input.sk-toggleable__control:checked~label.sk-toggleable__label-arrow:before {content: \"▾\";}#sk-container-id-4 div.sk-estimator input.sk-toggleable__control:checked~label.sk-toggleable__label {background-color: #d4ebff;}#sk-container-id-4 div.sk-label input.sk-toggleable__control:checked~label.sk-toggleable__label {background-color: #d4ebff;}#sk-container-id-4 input.sk-hidden--visually {border: 0;clip: rect(1px 1px 1px 1px);clip: rect(1px, 1px, 1px, 1px);height: 1px;margin: -1px;overflow: hidden;padding: 0;position: absolute;width: 1px;}#sk-container-id-4 div.sk-estimator {font-family: monospace;background-color: #f0f8ff;border: 1px dotted black;border-radius: 0.25em;box-sizing: border-box;margin-bottom: 0.5em;}#sk-container-id-4 div.sk-estimator:hover {background-color: #d4ebff;}#sk-container-id-4 div.sk-parallel-item::after {content: \"\";width: 100%;border-bottom: 1px solid gray;flex-grow: 1;}#sk-container-id-4 div.sk-label:hover label.sk-toggleable__label {background-color: #d4ebff;}#sk-container-id-4 div.sk-serial::before {content: \"\";position: absolute;border-left: 1px solid gray;box-sizing: border-box;top: 0;bottom: 0;left: 50%;z-index: 0;}#sk-container-id-4 div.sk-serial {display: flex;flex-direction: column;align-items: center;background-color: white;padding-right: 0.2em;padding-left: 0.2em;position: relative;}#sk-container-id-4 div.sk-item {position: relative;z-index: 1;}#sk-container-id-4 div.sk-parallel {display: flex;align-items: stretch;justify-content: center;background-color: white;position: relative;}#sk-container-id-4 div.sk-item::before, #sk-container-id-4 div.sk-parallel-item::before {content: \"\";position: absolute;border-left: 1px solid gray;box-sizing: border-box;top: 0;bottom: 0;left: 50%;z-index: -1;}#sk-container-id-4 div.sk-parallel-item {display: flex;flex-direction: column;z-index: 1;position: relative;background-color: white;}#sk-container-id-4 div.sk-parallel-item:first-child::after {align-self: flex-end;width: 50%;}#sk-container-id-4 div.sk-parallel-item:last-child::after {align-self: flex-start;width: 50%;}#sk-container-id-4 div.sk-parallel-item:only-child::after {width: 0;}#sk-container-id-4 div.sk-dashed-wrapped {border: 1px dashed gray;margin: 0 0.4em 0.5em 0.4em;box-sizing: border-box;padding-bottom: 0.4em;background-color: white;}#sk-container-id-4 div.sk-label label {font-family: monospace;font-weight: bold;display: inline-block;line-height: 1.2em;}#sk-container-id-4 div.sk-label-container {text-align: center;}#sk-container-id-4 div.sk-container {/* jupyter's `normalize.less` sets `[hidden] { display: none; }` but bootstrap.min.css set `[hidden] { display: none !important; }` so we also need the `!important` here to be able to override the default hidden behavior on the sphinx rendered scikit-learn.org. See: https://github.com/scikit-learn/scikit-learn/issues/21755 */display: inline-block !important;position: relative;}#sk-container-id-4 div.sk-text-repr-fallback {display: none;}</style><div id=\"sk-container-id-4\" class=\"sk-top-container\"><div class=\"sk-text-repr-fallback\"><pre>RandomForestClassifier(max_depth=3, max_features=5, min_samples_leaf=50,\n",
       "                       min_samples_split=200)</pre><b>In a Jupyter environment, please rerun this cell to show the HTML representation or trust the notebook. <br />On GitHub, the HTML representation is unable to render, please try loading this page with nbviewer.org.</b></div><div class=\"sk-container\" hidden><div class=\"sk-item\"><div class=\"sk-estimator sk-toggleable\"><input class=\"sk-toggleable__control sk-hidden--visually\" id=\"sk-estimator-id-8\" type=\"checkbox\" checked><label for=\"sk-estimator-id-8\" class=\"sk-toggleable__label sk-toggleable__label-arrow\">RandomForestClassifier</label><div class=\"sk-toggleable__content\"><pre>RandomForestClassifier(max_depth=3, max_features=5, min_samples_leaf=50,\n",
       "                       min_samples_split=200)</pre></div></div></div></div></div>"
      ],
      "text/plain": [
       "RandomForestClassifier(max_depth=3, max_features=5, min_samples_leaf=50,\n",
       "                       min_samples_split=200)"
      ]
     },
     "execution_count": 29,
     "metadata": {},
     "output_type": "execute_result"
    }
   ],
   "source": [
    "# fit\n",
    "rfc.fit(X_train_25,y_train_25)"
   ]
  },
  {
   "cell_type": "code",
   "execution_count": 30,
   "id": "14114d08-15ea-4389-b232-5a28b632d329",
   "metadata": {},
   "outputs": [],
   "source": [
    "# predict\n",
    "predictions = rfc.predict(X_test_25)"
   ]
  },
  {
   "cell_type": "code",
   "execution_count": 31,
   "id": "515063cb-aa40-4e02-8106-c4b038864f59",
   "metadata": {},
   "outputs": [],
   "source": [
    "# evaluation metrics\n",
    "from sklearn.metrics import classification_report,confusion_matrix"
   ]
  },
  {
   "cell_type": "code",
   "execution_count": 32,
   "id": "e506b536-5285-41b9-bed9-b62d12c392ef",
   "metadata": {},
   "outputs": [
    {
     "name": "stdout",
     "output_type": "stream",
     "text": [
      "              precision    recall  f1-score   support\n",
      "\n",
      "           0       0.63      0.85      0.73       153\n",
      "           1       0.49      0.23      0.31        97\n",
      "\n",
      "    accuracy                           0.61       250\n",
      "   macro avg       0.56      0.54      0.52       250\n",
      "weighted avg       0.58      0.61      0.56       250\n",
      "\n"
     ]
    }
   ],
   "source": [
    "print(classification_report(y_test_25,predictions))"
   ]
  },
  {
   "cell_type": "code",
   "execution_count": 33,
   "id": "8ab3f6d7-a914-46b1-b641-5aee8ee6b917",
   "metadata": {},
   "outputs": [
    {
     "name": "stdout",
     "output_type": "stream",
     "text": [
      "[[130  23]\n",
      " [ 75  22]]\n"
     ]
    }
   ],
   "source": [
    "print(confusion_matrix(y_test_25,predictions))"
   ]
  },
  {
   "cell_type": "markdown",
   "id": "0ae5caa4-f49a-422a-aa75-19bc26a6f1f5",
   "metadata": {},
   "source": [
    "TP (True Positives) = 130 /\n",
    "TN (True Negatives) = 23 /\n",
    "FP (False Positives) = 23 /\n",
    "FN (False Negatives) = 74\n",
    "\n",
    "Now we calculate the overall accuracy:"
   ]
  },
  {
   "cell_type": "code",
   "execution_count": 34,
   "id": "e588efa8-c863-497a-9bb5-b1f30b074536",
   "metadata": {},
   "outputs": [
    {
     "name": "stdout",
     "output_type": "stream",
     "text": [
      "Overall accuracy -> 0.612\n"
     ]
    }
   ],
   "source": [
    "print (\"Overall accuracy ->\", (130+23)/(130+23+23+74))"
   ]
  },
  {
   "cell_type": "markdown",
   "id": "994e5994-353a-4089-89e2-7f08259629e0",
   "metadata": {},
   "source": [
    "# Machine learning model #2 - KNN (K-Nearest Neighbors)"
   ]
  },
  {
   "cell_type": "markdown",
   "id": "766036e9-3ac7-456c-937a-2c589e614ff3",
   "metadata": {},
   "source": [
    "For this algorithm I consider a number of neighbors equal to 3, so k = 3."
   ]
  },
  {
   "cell_type": "code",
   "execution_count": 35,
   "id": "1a463fc3-79c3-4c89-b783-1c832371742e",
   "metadata": {},
   "outputs": [],
   "source": [
    "# Import knearest neighbors Classifier model\n",
    "from sklearn.neighbors import KNeighborsClassifier\n",
    "\n",
    "# Create KNN Classifier\n",
    "kNN = KNeighborsClassifier(n_neighbors = 3)\n",
    "\n",
    "# Train the model\n",
    "kNN.fit(X_train_25, y_train_25)\n",
    "\n",
    "# Predict the response for test dataset\n",
    "y_pred_25 = kNN.predict(X_test_25)"
   ]
  },
  {
   "cell_type": "markdown",
   "id": "d343195a-1cda-4053-8eeb-f13a06356418",
   "metadata": {},
   "source": [
    "Print the estimation of the model's accuracy on predicting the level of education.\n",
    "We do this by comparing actual test set values and predicted values."
   ]
  },
  {
   "cell_type": "code",
   "execution_count": 36,
   "id": "ad616d61-9319-43fa-9edd-46a6ba2e7744",
   "metadata": {},
   "outputs": [
    {
     "name": "stdout",
     "output_type": "stream",
     "text": [
      "Accuracy: 0.59\n"
     ]
    }
   ],
   "source": [
    "#Import scikit-learn metrics module for accuracy calculation\n",
    "from sklearn import metrics\n",
    "\n",
    "# Model Accuracy, how often is the classifier correct?\n",
    "print( \"Accuracy: {:.2f}\".format(metrics.accuracy_score(y_test_25, y_pred_25)) )"
   ]
  },
  {
   "cell_type": "markdown",
   "id": "e1c4ab33-25fa-45b3-afed-71c129a2afe6",
   "metadata": {},
   "source": [
    "#### Confusion Matrix\n",
    "Thanks to the confusion matrix, we can describe the performance of our model based on the test data for which the true values or labels are known."
   ]
  },
  {
   "cell_type": "code",
   "execution_count": 37,
   "id": "ce7fa24b-fc0c-4a0a-8208-34615eeaeb2b",
   "metadata": {},
   "outputs": [
    {
     "data": {
      "text/plain": [
       "<Axes: >"
      ]
     },
     "execution_count": 37,
     "metadata": {},
     "output_type": "execute_result"
    },
    {
     "data": {
      "image/png": "[encoded data removed]",
      "text/plain": [
       "<Figure size 640x480 with 2 Axes>"
      ]
     },
     "metadata": {},
     "output_type": "display_data"
    }
   ],
   "source": [
    "from sklearn.metrics import confusion_matrix\n",
    "import seaborn as sns\n",
    "\n",
    "# Call a method predict by using an object classifier 'cls_svm'\n",
    "y_predict_25 = kNN.predict(X_test_25)\n",
    "\n",
    "# Calculate cm by calling a method named as 'confusion_matrix'\n",
    "cm = confusion_matrix(y_test_25, y_predict_25)\n",
    "\n",
    "# Call a method heatmap() to plot confusion matrix\n",
    "sns.heatmap(cm, annot = True)"
   ]
  },
  {
   "cell_type": "markdown",
   "id": "77f63972-c114-4653-a364-b6198bc4cdbc",
   "metadata": {},
   "source": [
    "Let's produce the classification report so that we can identify the misclassified classes in much more detail by giving precision, recall and F1 score for each class."
   ]
  },
  {
   "cell_type": "code",
   "execution_count": 38,
   "id": "acee6938-72e9-4346-85f4-6786c0fde7bf",
   "metadata": {},
   "outputs": [
    {
     "name": "stdout",
     "output_type": "stream",
     "text": [
      "              precision    recall  f1-score   support\n",
      "\n",
      "           0       0.67      0.67      0.67       153\n",
      "           1       0.47      0.47      0.47        97\n",
      "\n",
      "    accuracy                           0.59       250\n",
      "   macro avg       0.57      0.57      0.57       250\n",
      "weighted avg       0.59      0.59      0.59       250\n",
      "\n"
     ]
    }
   ],
   "source": [
    "from sklearn.metrics import classification_report\n",
    "\n",
    "# Display the classification report\n",
    "print(classification_report(y_test_25, y_predict_25))"
   ]
  },
  {
   "cell_type": "markdown",
   "id": "4ee392fa-d235-4251-9e8e-b12c11049a29",
   "metadata": {},
   "source": [
    "### Hyperparameters\n",
    "In order to improve our accuracy, we have to evaluate the best value for the hyperparameter k (number of neighbors).\n",
    "So we will train and test our model with 10 different k values and finally use the one which gives us the best level of accuracy.\n",
    "\n",
    "We initialize a new variable called \"neighbors\" which will have values ranging from 1 to 20 and two numpy zero matrices namely train_accuracy and test_accuracy each for training and testing accuracy. We will need them later to plot a graph and choose the best neighbor value."
   ]
  },
  {
   "cell_type": "code",
   "execution_count": 39,
   "id": "2f13a700-d370-45a5-870a-3d5010cd3e66",
   "metadata": {},
   "outputs": [],
   "source": [
    "import numpy as np\n",
    "neighbors = np.arange(1, 31)                  # number of neighbors\n",
    "train_accuracy = np.zeros(len(neighbors))     # Declare and initialise the matrix\n",
    "test_accuracy = np.zeros(len(neighbors))      # Declare and initialise the matrix"
   ]
  },
  {
   "cell_type": "code",
   "execution_count": 40,
   "id": "9b6851be-c532-433d-8091-780f2a8bdb41",
   "metadata": {},
   "outputs": [
    {
     "name": "stdout",
     "output_type": "stream",
     "text": [
      "[ 1  2  3  4  5  6  7  8  9 10 11 12 13 14 15 16 17 18 19 20 21 22 23 24\n",
      " 25 26 27 28 29 30] [0. 0. 0. 0. 0. 0. 0. 0. 0. 0. 0. 0. 0. 0. 0. 0. 0. 0. 0. 0. 0. 0. 0. 0.\n",
      " 0. 0. 0. 0. 0. 0.] [0. 0. 0. 0. 0. 0. 0. 0. 0. 0. 0. 0. 0. 0. 0. 0. 0. 0. 0. 0. 0. 0. 0. 0.\n",
      " 0. 0. 0. 0. 0. 0.]\n"
     ]
    }
   ],
   "source": [
    "print(neighbors, train_accuracy, test_accuracy)"
   ]
  },
  {
   "cell_type": "markdown",
   "id": "b5145047-eb61-459b-b8c5-cf4e73d1b2ca",
   "metadata": {},
   "source": [
    "Now we have to enumerate over all the possible neighbor values and for each neighbor we predict both training and testing data. Finally, we store the accuracy in the train_accuracy and test_accuracy numpy arrays."
   ]
  },
  {
   "cell_type": "code",
   "execution_count": 41,
   "id": "3757ebaf-4352-4ce6-a513-e88b81a6754a",
   "metadata": {},
   "outputs": [],
   "source": [
    "for i, k in enumerate(neighbors):                          # for loop that checks the model for neighbor values 1, 2, 3.. k\n",
    "    kNN = KNeighborsClassifier(n_neighbors = k)            # Initialise an object knn using KNeighborsClassifier method\n",
    "\n",
    "    # Fit the model\n",
    "    kNN.fit(X_train_25, y_train_25)                              # Call fit method to implement the ML KNeighborsClassifier model\n",
    "\n",
    "    # Compute accuracy on the training set\n",
    "    train_accuracy[i] = kNN.score(X_train_25, y_train_25)        # Save the score value in the train_accuracy array\n",
    "\n",
    "    # Compute accuracy on the test set\n",
    "    test_accuracy[i] = kNN.score(X_test_25, y_test_25)           # Save the score value in the train_accuracy array"
   ]
  },
  {
   "cell_type": "markdown",
   "id": "25293a3a-a87f-4bac-a32b-ff3b8543a67f",
   "metadata": {},
   "source": [
    "We plot the training and testing accuracy using matplotlib, with accuracy vs. varying number of neighbors graph. Now we can choose the specific k value at which our model performs the best."
   ]
  },
  {
   "cell_type": "code",
   "execution_count": 42,
   "id": "3e703004-d216-413b-aebc-da2471d907e1",
   "metadata": {},
   "outputs": [
    {
     "data": {
      "image/png": "[encoded data removed]",
      "text/plain": [
       "<Figure size 1000x500 with 1 Axes>"
      ]
     },
     "metadata": {},
     "output_type": "display_data"
    }
   ],
   "source": [
    "import matplotlib.pyplot as plt\n",
    "\n",
    "plt.figure(figsize = (10, 5))\n",
    "plt.title('KNN accuracy for different value of k (neighbors)', fontsize = 20)\n",
    "plt.plot(neighbors, test_accuracy, label = 'Testing Accuracy')\n",
    "plt.plot(neighbors, train_accuracy, label = 'Training accuracy')\n",
    "plt.legend(prop={'size': 16})\n",
    "plt.xlabel('Number of neighbors', fontsize = 20)\n",
    "plt.ylabel('Accuracy', fontsize = 20)\n",
    "plt.xticks(fontsize = 20)\n",
    "plt.yticks(fontsize = 20)\n",
    "plt.show()"
   ]
  },
  {
   "cell_type": "code",
   "execution_count": 43,
   "id": "978c1eab-65b9-4b7e-93ca-16e7d7ab8402",
   "metadata": {},
   "outputs": [
    {
     "name": "stdout",
     "output_type": "stream",
     "text": [
      "Accuracy: 0.65\n"
     ]
    }
   ],
   "source": [
    "# So we can obtain the best level of accuracy if we consider a level of k (neighbors) equal to 26.\n",
    "# Create KNN Classifier\n",
    "kNN = KNeighborsClassifier(n_neighbors = 26)\n",
    "\n",
    "# Train the model\n",
    "kNN.fit(X_train_25, y_train_25)\n",
    "\n",
    "# Predict the response for test dataset\n",
    "y_pred_25 = kNN.predict(X_test_25)\n",
    "\n",
    "# Model Accuracy, how often is the classifier correct?\n",
    "print( \"Accuracy: {:.2f}\".format(metrics.accuracy_score(y_test_25, y_pred_25)) )"
   ]
  },
  {
   "cell_type": "markdown",
   "id": "27ef6ab1-9fce-40c2-acd0-8e43b6abf649",
   "metadata": {},
   "source": [
    "So, thanks to the hyperparameter tuning we achieved our goal which was improving the accuracy of the model, moving from 0.59 to 0.65.\n",
    "Now, I will try to improve these results, working on a new column thanks to feature engineering. My idea is to calculate for each student, the average score between math, reading and writing. Then I will replace those 3 variables with only the new one."
   ]
  },
  {
   "cell_type": "code",
   "execution_count": 44,
   "id": "1aa0ad33-811d-4f38-8eb5-d224cec59236",
   "metadata": {},
   "outputs": [
    {
     "data": {
      "text/html": [
       "<div>\n",
       "<style scoped>\n",
       "    .dataframe tbody tr th:only-of-type {\n",
       "        vertical-align: middle;\n",
       "    }\n",
       "\n",
       "    .dataframe tbody tr th {\n",
       "        vertical-align: top;\n",
       "    }\n",
       "\n",
       "    .dataframe thead th {\n",
       "        text-align: right;\n",
       "    }\n",
       "</style>\n",
       "<table border=\"1\" class=\"dataframe\">\n",
       "  <thead>\n",
       "    <tr style=\"text-align: right;\">\n",
       "      <th></th>\n",
       "      <th>test_preparation_course</th>\n",
       "      <th>math_score</th>\n",
       "      <th>reading_score</th>\n",
       "      <th>writing_score</th>\n",
       "      <th>level_of_education</th>\n",
       "      <th>average_score</th>\n",
       "    </tr>\n",
       "  </thead>\n",
       "  <tbody>\n",
       "    <tr>\n",
       "      <th>0</th>\n",
       "      <td>0</td>\n",
       "      <td>72</td>\n",
       "      <td>72</td>\n",
       "      <td>74</td>\n",
       "      <td>1</td>\n",
       "      <td>72.666667</td>\n",
       "    </tr>\n",
       "    <tr>\n",
       "      <th>1</th>\n",
       "      <td>1</td>\n",
       "      <td>69</td>\n",
       "      <td>90</td>\n",
       "      <td>88</td>\n",
       "      <td>0</td>\n",
       "      <td>82.333333</td>\n",
       "    </tr>\n",
       "    <tr>\n",
       "      <th>2</th>\n",
       "      <td>0</td>\n",
       "      <td>90</td>\n",
       "      <td>95</td>\n",
       "      <td>93</td>\n",
       "      <td>1</td>\n",
       "      <td>92.666667</td>\n",
       "    </tr>\n",
       "    <tr>\n",
       "      <th>3</th>\n",
       "      <td>0</td>\n",
       "      <td>47</td>\n",
       "      <td>57</td>\n",
       "      <td>44</td>\n",
       "      <td>1</td>\n",
       "      <td>49.333333</td>\n",
       "    </tr>\n",
       "    <tr>\n",
       "      <th>4</th>\n",
       "      <td>0</td>\n",
       "      <td>76</td>\n",
       "      <td>78</td>\n",
       "      <td>75</td>\n",
       "      <td>0</td>\n",
       "      <td>76.333333</td>\n",
       "    </tr>\n",
       "    <tr>\n",
       "      <th>5</th>\n",
       "      <td>0</td>\n",
       "      <td>71</td>\n",
       "      <td>83</td>\n",
       "      <td>78</td>\n",
       "      <td>1</td>\n",
       "      <td>77.333333</td>\n",
       "    </tr>\n",
       "    <tr>\n",
       "      <th>6</th>\n",
       "      <td>1</td>\n",
       "      <td>88</td>\n",
       "      <td>95</td>\n",
       "      <td>92</td>\n",
       "      <td>0</td>\n",
       "      <td>91.666667</td>\n",
       "    </tr>\n",
       "    <tr>\n",
       "      <th>7</th>\n",
       "      <td>0</td>\n",
       "      <td>40</td>\n",
       "      <td>43</td>\n",
       "      <td>39</td>\n",
       "      <td>0</td>\n",
       "      <td>40.666667</td>\n",
       "    </tr>\n",
       "    <tr>\n",
       "      <th>8</th>\n",
       "      <td>1</td>\n",
       "      <td>64</td>\n",
       "      <td>64</td>\n",
       "      <td>67</td>\n",
       "      <td>0</td>\n",
       "      <td>65.000000</td>\n",
       "    </tr>\n",
       "    <tr>\n",
       "      <th>9</th>\n",
       "      <td>0</td>\n",
       "      <td>38</td>\n",
       "      <td>60</td>\n",
       "      <td>50</td>\n",
       "      <td>0</td>\n",
       "      <td>49.333333</td>\n",
       "    </tr>\n",
       "  </tbody>\n",
       "</table>\n",
       "</div>"
      ],
      "text/plain": [
       "   test_preparation_course  math_score  reading_score  writing_score  \\\n",
       "0                        0          72             72             74   \n",
       "1                        1          69             90             88   \n",
       "2                        0          90             95             93   \n",
       "3                        0          47             57             44   \n",
       "4                        0          76             78             75   \n",
       "5                        0          71             83             78   \n",
       "6                        1          88             95             92   \n",
       "7                        0          40             43             39   \n",
       "8                        1          64             64             67   \n",
       "9                        0          38             60             50   \n",
       "\n",
       "   level_of_education  average_score  \n",
       "0                   1      72.666667  \n",
       "1                   0      82.333333  \n",
       "2                   1      92.666667  \n",
       "3                   1      49.333333  \n",
       "4                   0      76.333333  \n",
       "5                   1      77.333333  \n",
       "6                   0      91.666667  \n",
       "7                   0      40.666667  \n",
       "8                   0      65.000000  \n",
       "9                   0      49.333333  "
      ]
     },
     "execution_count": 44,
     "metadata": {},
     "output_type": "execute_result"
    }
   ],
   "source": [
    "# Create a new column named 'average_score' and compute the mean across columns\n",
    "df['average_score'] = df[['math_score', 'reading_score', 'writing_score']].mean(axis=1)\n",
    "\n",
    "# Display the updated DataFrame\n",
    "df.head(10)"
   ]
  },
  {
   "cell_type": "code",
   "execution_count": 45,
   "id": "5e2ee9c2-9293-4690-a57a-b0e0c5157a36",
   "metadata": {},
   "outputs": [],
   "source": [
    "# Putting feature variable to X\n",
    "X = df.drop(['level_of_education', 'math_score', 'reading_score', 'writing_score'],axis=1)\n",
    "\n",
    "# Putting response variable to y\n",
    "y = df['level_of_education']\n",
    "\n",
    "# Splitting the data into train and test\n",
    "X_train_25B, X_test_25B, y_train_25B, y_test_25B = train_test_split(X, y, test_size=0.25, random_state=1)"
   ]
  },
  {
   "cell_type": "code",
   "execution_count": 46,
   "id": "036ba78f-8b83-427b-9e91-5776c8e0f849",
   "metadata": {},
   "outputs": [
    {
     "name": "stdout",
     "output_type": "stream",
     "text": [
      "Accuracy: 0.62\n"
     ]
    }
   ],
   "source": [
    "# Create KNN Classifier\n",
    "kNN = KNeighborsClassifier(n_neighbors = 26)\n",
    "\n",
    "# Train the model using the training sets\n",
    "kNN.fit(X_train_25B, y_train_25B)\n",
    "\n",
    "# Predict the response for test dataset\n",
    "y_pred_25B = kNN.predict(X_test_25B)\n",
    "\n",
    "# Model Accuracy, how often is the classifier correct?\n",
    "print( \"Accuracy: {:.2f}\".format(metrics.accuracy_score(y_test_25B, y_pred_25B)) )"
   ]
  },
  {
   "cell_type": "code",
   "execution_count": 47,
   "id": "ed01c3c6-898e-4940-bbd9-7ecf12739cd6",
   "metadata": {},
   "outputs": [],
   "source": [
    "import numpy as np\n",
    "neighbors = np.arange(1, 31)                  # number of neighbors\n",
    "train_accuracy = np.zeros(len(neighbors))     # Declare and initialise the matrix\n",
    "test_accuracy = np.zeros(len(neighbors))      # Declare and initialise the matrix"
   ]
  },
  {
   "cell_type": "code",
   "execution_count": 48,
   "id": "25e0a68f-b59b-4a7b-bc0d-0416b3470147",
   "metadata": {},
   "outputs": [],
   "source": [
    "for i, k in enumerate(neighbors):                          # for loop that checks the model for neighbor values 1, 2, 3, ... k\n",
    "    kNN = KNeighborsClassifier(n_neighbors = k)            # Initialise an object knn using KNeighborsClassifier method\n",
    "\n",
    "    # Fit the model\n",
    "    kNN.fit(X_train_25B, y_train_25B)                              # Call fit method to implement the ML KNeighborsClassifier model\n",
    "\n",
    "    # Compute accuracy on the training set\n",
    "    train_accuracy[i] = kNN.score(X_train_25B, y_train_25B)        # Save the score value in the train_accuracy array\n",
    "\n",
    "    # Compute accuracy on the test set\n",
    "    test_accuracy[i] = kNN.score(X_test_25B, y_test_25B)           # Save the score value in the train_accuracy array"
   ]
  },
  {
   "cell_type": "code",
   "execution_count": 49,
   "id": "f1fd90dc-e604-4330-a828-c63e19d98574",
   "metadata": {},
   "outputs": [
    {
     "data": {
      "image/png": "[encoded data removed]",
      "text/plain": [
       "<Figure size 1000x500 with 1 Axes>"
      ]
     },
     "metadata": {},
     "output_type": "display_data"
    }
   ],
   "source": [
    "plt.figure(figsize = (10, 5))\n",
    "plt.title('KNN accuracy for different value of k (neighbors)', fontsize = 20)\n",
    "plt.plot(neighbors, test_accuracy, label = 'Testing Accuracy')\n",
    "plt.plot(neighbors, train_accuracy, label = 'Training accuracy')\n",
    "plt.legend(prop={'size': 16})\n",
    "plt.xlabel('Number of neighbors', fontsize = 20)\n",
    "plt.ylabel('Accuracy', fontsize = 20)\n",
    "plt.xticks(fontsize = 20)\n",
    "plt.yticks(fontsize = 20)\n",
    "plt.show()"
   ]
  },
  {
   "cell_type": "markdown",
   "id": "17693824-4a02-4413-8152-7de61be577fb",
   "metadata": {},
   "source": [
    "Looking at the chart, the new best value of neighbors is not 26 anymore but 22.\n",
    "The accuracy level is calculated below:"
   ]
  },
  {
   "cell_type": "code",
   "execution_count": 50,
   "id": "acb16f8a-be7c-4e29-b99f-a009edeae0ee",
   "metadata": {},
   "outputs": [
    {
     "name": "stdout",
     "output_type": "stream",
     "text": [
      "Accuracy: 0.63\n"
     ]
    }
   ],
   "source": [
    "# Update KNN Classifier\n",
    "kNN = KNeighborsClassifier(n_neighbors = 22)\n",
    "\n",
    "# Train the model using the training sets\n",
    "kNN.fit(X_train_25B, y_train_25B)\n",
    "\n",
    "# Predict the response for test dataset\n",
    "y_pred_25B = kNN.predict(X_test_25B)\n",
    "\n",
    "# Model Accuracy, how often is the classifier correct?\n",
    "print( \"Accuracy: {:.2f}\".format(metrics.accuracy_score(y_test_25B, y_pred_25B)) )"
   ]
  },
  {
   "cell_type": "markdown",
   "id": "0962a85a-5eec-4177-8740-311682419d1c",
   "metadata": {},
   "source": [
    "Apparently, the previous model was performing better (0.65 vs. 0.63), so we should rely on the first one."
   ]
  }
 ],
 "metadata": {
  "kernelspec": {
   "display_name": "Python 3 (ipykernel)",
   "language": "python",
   "name": "python3"
  },
  "language_info": {
   "codemirror_mode": {
    "name": "ipython",
    "version": 3
   },
   "file_extension": ".py",
   "mimetype": "text/x-python",
   "name": "python",
   "nbconvert_exporter": "python",
   "pygments_lexer": "ipython3",
   "version": "3.11.5"
  }
 },
 "nbformat": 4,
 "nbformat_minor": 5
}
